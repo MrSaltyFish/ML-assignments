{
  "nbformat": 4,
  "nbformat_minor": 0,
  "metadata": {
    "colab": {
      "provenance": []
    },
    "kernelspec": {
      "name": "python3",
      "display_name": "Python 3"
    },
    "language_info": {
      "name": "python"
    }
  },
  "cells": [
    {
      "cell_type": "code",
      "execution_count": 9,
      "metadata": {
        "id": "lvUUGcES8gFR"
      },
      "outputs": [],
      "source": [
        "import pandas as pd\n",
        "import numpy as np\n",
        "import matplotlib.pyplot as plt\n",
        "from sklearn.model_selection import train_test_split\n",
        "from sklearn.tree import DecisionTreeRegressor\n",
        "from sklearn.ensemble import RandomForestRegressor\n",
        "from sklearn.metrics import mean_squared_error, r2_score"
      ]
    },
    {
      "cell_type": "code",
      "source": [
        "df = pd.read_csv('student_scores.csv')\n",
        "df.columns = ['Hours_Studied', 'Test_Score']\n",
        "\n",
        "X = df[['Hours_Studied']]\n",
        "y = df['Test_Score']\n",
        "\n",
        "X_train, X_test, y_train, y_test = train_test_split(X, y, test_size=0.2, random_state=42)"
      ],
      "metadata": {
        "id": "SSgtw7vi8kZU"
      },
      "execution_count": 10,
      "outputs": []
    },
    {
      "cell_type": "code",
      "source": [
        "dt_model = DecisionTreeRegressor(random_state=42)\n",
        "dt_model.fit(X_train, y_train)\n",
        "dt_pred = dt_model.predict(X_test)\n",
        "dt_mse = mean_squared_error(y_test, dt_pred)\n",
        "dt_r2 = r2_score(y_test, dt_pred)"
      ],
      "metadata": {
        "id": "xUJBHsQ48mJP"
      },
      "execution_count": 11,
      "outputs": []
    },
    {
      "cell_type": "code",
      "source": [
        "rf_model = RandomForestRegressor(n_estimators=100, random_state=42)\n",
        "rf_model.fit(X_train, y_train)\n",
        "rf_pred = rf_model.predict(X_test)\n",
        "rf_mse = mean_squared_error(y_test, rf_pred)\n",
        "rf_r2 = r2_score(y_test, rf_pred)"
      ],
      "metadata": {
        "id": "_QBt3z7a9yvE"
      },
      "execution_count": 12,
      "outputs": []
    },
    {
      "cell_type": "code",
      "source": [
        "print(\"Model Comparison:\")\n",
        "print(\"-\" * 30)\n",
        "print(f\"Decision Tree Regressor:\")\n",
        "print(f\"  Mean Squared Error (MSE): {dt_mse:.2f}\")\n",
        "print(f\"  R-squared (R2) Score: {dt_r2:.2f}\")\n",
        "print(\"-\" * 30)\n",
        "print(f\"Random Forest Regressor:\")\n",
        "print(f\"  Mean Squared Error (MSE): {rf_mse:.2f}\")\n",
        "print(f\"  R-squared (R2) Score: {rf_r2:.2f}\")\n",
        "print(\"-\" * 30)"
      ],
      "metadata": {
        "id": "Cod0Opsw90Iq",
        "colab": {
          "base_uri": "https://localhost:8080/"
        },
        "outputId": "e9fa2d79-ff1a-4b58-948b-b9733d23982b"
      },
      "execution_count": 13,
      "outputs": [
        {
          "output_type": "stream",
          "name": "stdout",
          "text": [
            "Model Comparison:\n",
            "------------------------------\n",
            "Decision Tree Regressor:\n",
            "  Mean Squared Error (MSE): 31.70\n",
            "  R-squared (R2) Score: 0.95\n",
            "------------------------------\n",
            "Random Forest Regressor:\n",
            "  Mean Squared Error (MSE): 13.05\n",
            "  R-squared (R2) Score: 0.98\n",
            "------------------------------\n"
          ]
        }
      ]
    }
  ]
}